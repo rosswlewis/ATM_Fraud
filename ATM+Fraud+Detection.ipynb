{
 "cells": [
  {
   "cell_type": "markdown",
   "metadata": {},
   "source": [
    "### Predicting ATM Fraud"
   ]
  },
  {
   "cell_type": "markdown",
   "metadata": {},
   "source": [
    "In this notebook you will learn how to build a predictive model with Spark machine learning API (SparkML) and deploy it for scoring in Machine Learning (ML). \n",
    "\n",
    "This notebook walks you through these steps:\n",
    "- Build a model with SparkML API\n",
    "- Save the model in the ML repository\n",
    "- Create a Deployment in ML (via UI)\n",
    "- Test the model (via UI)\n",
    "- Test the model (via REST API)"
   ]
  },
  {
   "cell_type": "markdown",
   "metadata": {},
   "source": [
    "### Use Case"
   ]
  },
  {
   "cell_type": "markdown",
   "metadata": {},
   "source": [
    "The analytics use case implemented in this notebook is detecting ATM Fraud. While it's a simple use case, it implements all steps from the CRISP-DM methodolody, which is the recommended best practice for implementing predictive analytics. \n",
    "![CRISP-DM](https://raw.githubusercontent.com/rosswlewis/ATM_Fraud/master/assets/crisp_dm.png)\n",
    "\n",
    "The analytics process starts with defining the business problem and identifying the data that can be used to solve the problem. For ATM fraud, we use historical transaction data. We also know which transactions are fraud, which is the critical information for building predictive models. In the next step, we use visual APIs for data understanding and complete some data preparation tasks. In a typical analytics project data preparation will include more steps (for example, formatting data or deriving new variables). \n",
    "\n",
    "Once the data is ready, we can build a predictive model. In our example we are using the SparkML Random Forrest classification model. Classification is a statistical technique which assigns a \"class\" to each customer record (for our use case \"fraud\" or \"not fraud\"). Classification models use historical data to come up with the logic to predict \"class\", this process is called model training. After the model is created, it's usually evaluated using another data set. \n",
    "\n",
    "Finally, if the model's accuracy meets the expectations, it can be deployed for scoring. Scoring is the process of applying the model to a new set of data. For example, when we receive new transactional data, we can score the customer for the risk of fraud.  "
   ]
  },
  {
   "cell_type": "markdown",
   "metadata": {},
   "source": [
    "### Working with Notebooks"
   ]
  },
  {
   "cell_type": "markdown",
   "metadata": {},
   "source": [
    "If you are new to Notebooks, here's a quick overview of how to work in this environment.\n",
    "\n",
    "1. To run the notebook, it must be in the Edit mode. If you don't see the menu in the notebook, then it's not in the edit mode. Click on the pencil icon.\n",
    "2. The notebook has 2 types of cells - markdown (text) and code. \n",
    "3. Each cell with code can be executed independently or together (see options under the Cell menu). When working in this notebook, we will be running one cell at a time because we need to make code changes to some of the cells.\n",
    "4. To run the cell, position cursor in the code cell and click the Run (arrow) icon. The cell is running when you see the * next to it. Some cells have printable output.\n",
    "5. Work through this notebook by reading the instructions and executing code cell by cell. Some cells will require modifications before you run them. "
   ]
  },
  {
   "cell_type": "markdown",
   "metadata": {},
   "source": [
    "### Step 1: Load the Data"
   ]
  },
  {
   "cell_type": "code",
   "execution_count": 4,
   "metadata": {
    "collapsed": false
   },
   "outputs": [],
   "source": [
    "from pyspark.sql import SparkSession\n",
    "spark = SparkSession.builder.getOrCreate()"
   ]
  },
  {
   "cell_type": "code",
   "execution_count": 9,
   "metadata": {
    "collapsed": false
   },
   "outputs": [
    {
     "data": {
      "text/html": [
       "<div>\n",
       "<style>\n",
       "    .dataframe thead tr:only-child th {\n",
       "        text-align: right;\n",
       "    }\n",
       "\n",
       "    .dataframe thead th {\n",
       "        text-align: left;\n",
       "    }\n",
       "\n",
       "    .dataframe tbody tr th {\n",
       "        vertical-align: top;\n",
       "    }\n",
       "</style>\n",
       "<table border=\"1\" class=\"dataframe\">\n",
       "  <thead>\n",
       "    <tr style=\"text-align: right;\">\n",
       "      <th></th>\n",
       "      <th>ATM_ID</th>\n",
       "      <th>SHORTNAM</th>\n",
       "      <th>CARDHOLD</th>\n",
       "      <th>FRAUD_TY</th>\n",
       "      <th>FRAUD</th>\n",
       "      <th>ISSUER_I</th>\n",
       "      <th>MAKE</th>\n",
       "      <th>MODEL</th>\n",
       "      <th>FACILITI</th>\n",
       "      <th>ATM_POSI</th>\n",
       "      <th>INSTITUT</th>\n",
       "      <th>POST_COD_Town</th>\n",
       "      <th>POST_COD_Region</th>\n",
       "      <th>Day of Week</th>\n",
       "      <th>Time of Day</th>\n",
       "      <th>Time of Day Band</th>\n",
       "    </tr>\n",
       "  </thead>\n",
       "  <tbody>\n",
       "    <tr>\n",
       "      <th>0</th>\n",
       "      <td>ATM_S0</td>\n",
       "      <td>NWST</td>\n",
       "      <td>Card_S1</td>\n",
       "      <td>NOT FRAUDULENT</td>\n",
       "      <td>0</td>\n",
       "      <td>716</td>\n",
       "      <td>TRITON</td>\n",
       "      <td>9670.0</td>\n",
       "      <td>ND S/C 100P</td>\n",
       "      <td>Petrol Station</td>\n",
       "      <td>SECU</td>\n",
       "      <td>Belfast</td>\n",
       "      <td>Northern Ireland</td>\n",
       "      <td>5. Thursday</td>\n",
       "      <td>21</td>\n",
       "      <td>4. Evening (6pm to 10pm)</td>\n",
       "    </tr>\n",
       "    <tr>\n",
       "      <th>1</th>\n",
       "      <td>ATM_S2</td>\n",
       "      <td>BOI</td>\n",
       "      <td>Card_S3</td>\n",
       "      <td>NOT FRAUDULENT</td>\n",
       "      <td>0</td>\n",
       "      <td>152</td>\n",
       "      <td>NCR</td>\n",
       "      <td>5884.0</td>\n",
       "      <td>ND S/C 100P</td>\n",
       "      <td>Convenience Store</td>\n",
       "      <td>SECU</td>\n",
       "      <td>Belfast</td>\n",
       "      <td>Northern Ireland</td>\n",
       "      <td>6. Friday</td>\n",
       "      <td>21</td>\n",
       "      <td>4. Evening (6pm to 10pm)</td>\n",
       "    </tr>\n",
       "    <tr>\n",
       "      <th>2</th>\n",
       "      <td>ATM_S4</td>\n",
       "      <td>LLDS</td>\n",
       "      <td>Card_S5</td>\n",
       "      <td>NOT FRAUDULENT</td>\n",
       "      <td>0</td>\n",
       "      <td>158</td>\n",
       "      <td>NCR</td>\n",
       "      <td>5085.0</td>\n",
       "      <td>ND S/C 100P</td>\n",
       "      <td>Supermarket</td>\n",
       "      <td>SECU</td>\n",
       "      <td>Edinburgh</td>\n",
       "      <td>Scotland</td>\n",
       "      <td>2. Monday</td>\n",
       "      <td>14</td>\n",
       "      <td>3. Afternoon (1pm to 5pm)</td>\n",
       "    </tr>\n",
       "    <tr>\n",
       "      <th>3</th>\n",
       "      <td>ATM_S8</td>\n",
       "      <td>BARC</td>\n",
       "      <td>Card_S9</td>\n",
       "      <td>NOT FRAUDULENT</td>\n",
       "      <td>0</td>\n",
       "      <td>354</td>\n",
       "      <td>TRITON</td>\n",
       "      <td>9670.0</td>\n",
       "      <td>None</td>\n",
       "      <td>Convenience Store</td>\n",
       "      <td>SECU</td>\n",
       "      <td>Lincoln</td>\n",
       "      <td>East Midlands</td>\n",
       "      <td>7. Saturday</td>\n",
       "      <td>8</td>\n",
       "      <td>2. Morning (4am to midday)</td>\n",
       "    </tr>\n",
       "    <tr>\n",
       "      <th>4</th>\n",
       "      <td>ATM_S10</td>\n",
       "      <td>LLDS</td>\n",
       "      <td>Card_S11</td>\n",
       "      <td>NOT FRAUDULENT</td>\n",
       "      <td>0</td>\n",
       "      <td>958</td>\n",
       "      <td>TRITON</td>\n",
       "      <td>9640.0</td>\n",
       "      <td>ND S/C 125P</td>\n",
       "      <td>Convenience Store</td>\n",
       "      <td>SECU</td>\n",
       "      <td>Newcastle Upon Tyne</td>\n",
       "      <td>North</td>\n",
       "      <td>5. Thursday</td>\n",
       "      <td>7</td>\n",
       "      <td>2. Morning (4am to midday)</td>\n",
       "    </tr>\n",
       "  </tbody>\n",
       "</table>\n",
       "</div>"
      ],
      "text/plain": [
       "    ATM_ID SHORTNAM  CARDHOLD        FRAUD_TY  FRAUD ISSUER_I    MAKE   MODEL  \\\n",
       "0   ATM_S0     NWST   Card_S1  NOT FRAUDULENT      0      716  TRITON  9670.0   \n",
       "1   ATM_S2      BOI   Card_S3  NOT FRAUDULENT      0      152     NCR  5884.0   \n",
       "2   ATM_S4     LLDS   Card_S5  NOT FRAUDULENT      0      158     NCR  5085.0   \n",
       "3   ATM_S8     BARC   Card_S9  NOT FRAUDULENT      0      354  TRITON  9670.0   \n",
       "4  ATM_S10     LLDS  Card_S11  NOT FRAUDULENT      0      958  TRITON  9640.0   \n",
       "\n",
       "      FACILITI           ATM_POSI INSTITUT        POST_COD_Town  \\\n",
       "0  ND S/C 100P     Petrol Station     SECU              Belfast   \n",
       "1  ND S/C 100P  Convenience Store     SECU              Belfast   \n",
       "2  ND S/C 100P        Supermarket     SECU            Edinburgh   \n",
       "3         None  Convenience Store     SECU              Lincoln   \n",
       "4  ND S/C 125P  Convenience Store     SECU  Newcastle Upon Tyne   \n",
       "\n",
       "    POST_COD_Region  Day of Week  Time of Day            Time of Day Band  \n",
       "0  Northern Ireland  5. Thursday           21    4. Evening (6pm to 10pm)  \n",
       "1  Northern Ireland    6. Friday           21    4. Evening (6pm to 10pm)  \n",
       "2          Scotland    2. Monday           14   3. Afternoon (1pm to 5pm)  \n",
       "3     East Midlands  7. Saturday            8  2. Morning (4am to midday)  \n",
       "4             North  5. Thursday            7  2. Morning (4am to midday)  "
      ]
     },
     "execution_count": 9,
     "metadata": {},
     "output_type": "execute_result"
    }
   ],
   "source": [
    "data = spark.read.csv('../datasets/ATM_CleanData.csv', header='true',inferSchema='true')\n",
    "data.toPandas().head()"
   ]
  },
  {
   "cell_type": "markdown",
   "metadata": {},
   "source": [
    "If the first step ran successfully (you saw the output), then continue reviewing the notebook and running each code cell step by step. Note that not every cell has a visual output. The cell is still running if you see a * in the brackets next to the cell. \n",
    "\n",
    "If the first step didn't finish successfully, check with the instructor. "
   ]
  },
  {
   "cell_type": "markdown",
   "metadata": {},
   "source": [
    "### Step 2: Clean the Data\n",
    "This step is to remove spaces from columns names, it's an example of data preparation that you may have to do before creating a model. "
   ]
  },
  {
   "cell_type": "code",
   "execution_count": 41,
   "metadata": {
    "collapsed": false
   },
   "outputs": [],
   "source": [
    "data = data.withColumnRenamed('Day of Week','DAY_OF_WEEK')\n",
    "data = data.withColumnRenamed('Time of Day','TIME_OF_DAY')\n",
    "data = data.withColumnRenamed('Time of Day Band','TIME_OF_DAY_BAND')"
   ]
  },
  {
   "cell_type": "markdown",
   "metadata": {},
   "source": [
    "### Step 3: Understand the Data\n",
    "Data preparation and data understanding are the most time-consuming tasks in the data mining process. The data scientist needs to review and evaluate the quality of data before modeling.\n",
    "\n",
    "Visualization is one of the ways to reivew data.\n",
    "\n",
    "The Brunel Visualization Language is a highly succinct and novel language that defines interactive data visualizations based on tabular data. The language is well suited for both data scientists and business users. \n",
    "More information about Brunel Visualization: https://github.com/Brunel-Visualization/Brunel/wiki\n",
    "\n",
    "Try Brunel visualization here: http://brunel.mybluemix.net/gallery_app/renderer"
   ]
  },
  {
   "cell_type": "code",
   "execution_count": 48,
   "metadata": {
    "collapsed": false
   },
   "outputs": [],
   "source": [
    "df = data.sample(True,.1).toPandas()"
   ]
  },
  {
   "cell_type": "code",
   "execution_count": 51,
   "metadata": {
    "collapsed": false
   },
   "outputs": [
    {
     "data": {
      "text/html": [
       "<!--\n",
       "  ~ Copyright (c) 2015 IBM Corporation and others.\n",
       "  ~\n",
       "  ~ Licensed under the Apache License, Version 2.0 (the \"License\");\n",
       "  ~ You may not use this file except in compliance with the License.\n",
       "  ~ You may obtain a copy of the License at\n",
       "  ~\n",
       "  ~     http://www.apache.org/licenses/LICENSE-2.0\n",
       "  ~\n",
       "  ~ Unless required by applicable law or agreed to in writing, software\n",
       "  ~ distributed under the License is distributed on an \"AS IS\" BASIS,\n",
       "  ~ WITHOUT WARRANTIES OR CONDITIONS OF ANY KIND, either express or implied.\n",
       "  ~ See the License for the specific language governing permissions and\n",
       "  ~ limitations under the License.\n",
       "  -->\n",
       "\n",
       "\n",
       "<link rel=\"stylesheet\" type=\"text/css\" href=\"/dsx-jupyter/ibmdsxuser-1001/1507052412350/nbextensions/brunel_ext/brunel.2.3.css\">\n",
       "<link rel=\"stylesheet\" type=\"text/css\" href=\"/dsx-jupyter/ibmdsxuser-1001/1507052412350/nbextensions/brunel_ext/sumoselect.css\">\n",
       "\n",
       "<style>\n",
       "    \n",
       "</style>\n",
       "\n",
       "<div id=\"controlsid3af1a00a-a86a-11e7-965c-1ac5613003e5\" class=\"brunel\"/>\n",
       "<svg id=\"visid3af19c22-a86a-11e7-965c-1ac5613003e5\" width=\"500\" height=\"400\"></svg>"
      ],
      "text/plain": [
       "<IPython.core.display.HTML object>"
      ]
     },
     "metadata": {},
     "output_type": "display_data"
    },
    {
     "data": {
      "application/javascript": [
       "/*\n",
       " * Copyright (c) 2015 IBM Corporation and others.\n",
       " *\n",
       " * Licensed under the Apache License, Version 2.0 (the \"License\");\n",
       " * You may not use this file except in compliance with the License.\n",
       " * You may obtain a copy of the License at\n",
       " *\n",
       " *     http://www.apache.org/licenses/LICENSE-2.0\n",
       " *\n",
       " * Unless required by applicable law or agreed to in writing, software\n",
       " * distributed under the License is distributed on an \"AS IS\" BASIS,\n",
       " * WITHOUT WARRANTIES OR CONDITIONS OF ANY KIND, either express or implied.\n",
       " * See the License for the specific language governing permissions and\n",
       " * limitations under the License.\n",
       " */\n",
       "\n",
       "require.config({\n",
       "    waitSeconds: 60,\n",
       "    paths: {\n",
       "        'd3': '//cdnjs.cloudflare.com/ajax/libs/d3/4.2.1/d3.min',\n",
       "        'topojson': '//cdnjs.cloudflare.com/ajax/libs/topojson/1.6.20/topojson.min',\n",
       "        'brunel' : '/dsx-jupyter/ibmdsxuser-1001/1507052412350/nbextensions/brunel_ext/brunel.2.3.min',\n",
       "        'brunelControls' : '/dsx-jupyter/ibmdsxuser-1001/1507052412350/nbextensions/brunel_ext/brunel.controls.2.3.min'\n",
       "    },\n",
       "    shim: {\n",
       "       'brunel' : {\n",
       "            exports: 'BrunelD3',\n",
       "            deps: ['d3', 'topojson'],\n",
       "            init: function() {\n",
       "               return {\n",
       "                 BrunelD3 : BrunelD3,\n",
       "                 BrunelData : BrunelData\n",
       "              }\n",
       "            }\n",
       "        },\n",
       "       'brunelControls' : {\n",
       "            exports: 'BrunelEventHandlers',\n",
       "            init: function() {\n",
       "               return {\n",
       "                 BrunelEventHandlers: BrunelEventHandlers,\n",
       "                 BrunelJQueryControlFactory: BrunelJQueryControlFactory\n",
       "              }\n",
       "            }\n",
       "        }\n",
       "\n",
       "    }\n",
       "\n",
       "});\n",
       "\n",
       "require([\"d3\"], function(d3) {\n",
       "    require([\"brunel\", \"brunelControls\"], function(brunel, brunelControls) {\n",
       "        function  BrunelVis(visId) {\n",
       "  \"use strict\";                                                                       // strict mode\n",
       "  var datasets = [],                                      // array of datasets for the original data\n",
       "      pre = function(d, i) { return d },                         // default pre-process does nothing\n",
       "      post = function(d, i) { return d },                       // default post-process does nothing\n",
       "      transitionTime = 200,                                        // transition time for animations\n",
       "      charts = [],                                                       // the charts in the system\n",
       "      vis = d3.select('#' + visId).attr('class', 'brunel');                     // the SVG container\n",
       "\n",
       "  BrunelD3.addDefinitions(vis);                                   // ensure standard symbols present\n",
       "\n",
       "  // Define chart #1 in the visualization //////////////////////////////////////////////////////////\n",
       "\n",
       "  charts[0] = function(parentNode, filterRows) {\n",
       "    var geom = BrunelD3.geometry(parentNode || vis.node(), 0, 0, 1, 1, 0, 0, 0, 110),\n",
       "      elements = [];                                              // array of elements in this chart\n",
       "\n",
       "    // Define groups for the chart parts ///////////////////////////////////////////////////////////\n",
       "\n",
       "    var chart =  vis.append('g').attr('class', 'chart1')\n",
       "      .attr('transform','translate(' + geom.chart_left + ',' + geom.chart_top + ')');\n",
       "    var overlay = chart.append('g').attr('class', 'element').attr('class', 'overlay');\n",
       "    var zoom = d3.zoom().scaleExtent([1/3,3]);\n",
       "    var zoomNode = overlay.append('rect').attr('class', 'overlay')\n",
       "      .attr('x', geom.inner_left).attr('y', geom.inner_top)\n",
       "      .attr('width', geom.inner_rawWidth).attr('height', geom.inner_rawHeight)\n",
       "      .style('cursor', 'default')\n",
       "      .node();\n",
       "    zoomNode.__zoom = d3.zoomIdentity;\n",
       "    chart.append('rect').attr('class', 'background').attr('width', geom.chart_right-geom.chart_left).attr('height', geom.chart_bottom-geom.chart_top);\n",
       "    var interior = chart.append('g').attr('class', 'interior zoomNone')\n",
       "      .attr('transform','translate(' + geom.inner_left + ',' + geom.inner_top + ')')\n",
       "      .attr('clip-path', 'url(#clip_visid3af19c22-a86a-11e7-965c-1ac5613003e5_chart1_inner)');\n",
       "    interior.append('rect').attr('class', 'inner').attr('width', geom.inner_width).attr('height', geom.inner_height);\n",
       "    var gridGroup = interior.append('g').attr('class', 'grid');\n",
       "    var legends = chart.append('g').attr('class', 'legend')\n",
       "      .attr('transform','translate(' + (geom.chart_right-geom.chart_left - 3) + ',' + 0 + ')');\n",
       "    vis.append('clipPath').attr('id', 'clip_visid3af19c22-a86a-11e7-965c-1ac5613003e5_chart1_inner').append('rect')\n",
       "      .attr('x', 0).attr('y', 0)\n",
       "      .attr('width', geom.inner_rawWidth+1).attr('height', geom.inner_rawHeight+1);\n",
       "    var tree, expandState = [], collapseState = {};    // collapse state maps node IDs to true/false\n",
       "    var scale_x = d3.scaleLinear(), scale_y = d3.scaleLinear();\n",
       "    var base_scales = [scale_x, scale_y];                           // untransformed original scales\n",
       "    zoom.on('zoom', function(t, time) {\n",
       "        t = t || d3.event.transform;\n",
       "        zoomNode.__zoom = t;\n",
       "        interior.attr('class', 'interior ' + BrunelD3.zoomLabel(t.k));;\n",
       "        build(time || -1);\n",
       "    });\n",
       "\n",
       "    // Define element #1 ///////////////////////////////////////////////////////////////////////////\n",
       "\n",
       "    elements[0] = function() {\n",
       "      var original, processed,                           // data sets passed in and then transformed\n",
       "        element, data,                                 // brunel element information and brunel data\n",
       "        selection, merged;                                      // d3 selection and merged selection\n",
       "      var elementGroup = interior.append('g').attr('class', 'element1'),\n",
       "        main = elementGroup.append('g').attr('class', 'main'),\n",
       "        labels = BrunelD3.undoTransform(elementGroup.append('g').attr('class', 'labels').attr('aria-hidden', 'true'), elementGroup),\n",
       "        diagramLabels = BrunelD3.undoTransform(elementGroup.append('g').attr('class', 'diagram labels').attr('aria-hidden', 'true'), elementGroup);\n",
       "\n",
       "      function makeData() {\n",
       "        original = datasets[0];\n",
       "        if (filterRows) original = original.retainRows(filterRows);\n",
       "        processed = pre(original, 0)\n",
       "          .summarize('FRAUD=FRAUD:sum; DAY_OF_WEEK=DAY_OF_WEEK:base; TIME_OF_DAY_BAND=TIME_OF_DAY_BAND:base');\n",
       "        processed = post(processed, 0);\n",
       "        var f0 = processed.field('DAY_OF_WEEK'),\n",
       "          f1 = processed.field('TIME_OF_DAY_BAND'),\n",
       "          f2 = processed.field('FRAUD'),\n",
       "          f3 = processed.field('#row'),\n",
       "          f4 = processed.field('#selection');\n",
       "        var keyFunc = function(d) { return f0.value(d)+ '|' + f1.value(d) };\n",
       "        data = {\n",
       "          DAY_OF_WEEK:  function(d) { return f0.value(d.row) },\n",
       "          TIME_OF_DAY_BAND:function(d) { return f1.value(d.row) },\n",
       "          FRAUD:        function(d) { return f2.value(d.row) },\n",
       "          $row:         function(d) { return f3.value(d.row) },\n",
       "          $selection:   function(d) { return f4.value(d.row) },\n",
       "          DAY_OF_WEEK_f:function(d) { return f0.valueFormatted(d.row) },\n",
       "          TIME_OF_DAY_BAND_f:function(d) { return f1.valueFormatted(d.row) },\n",
       "          FRAUD_f:      function(d) { return f2.valueFormatted(d.row) },\n",
       "          $row_f:       function(d) { return f3.valueFormatted(d.row) },\n",
       "          $selection_f: function(d) { return f4.valueFormatted(d.row) },\n",
       "          _split:       function(d) { return f0.value(d.row)+ '|' + f2.value(d.row) },\n",
       "          _key:         keyFunc,\n",
       "          _rows:        BrunelD3.makeRowsWithKeys(keyFunc, processed.rowCount())\n",
       "        };\n",
       "      }\n",
       "      // Aesthetic Functions\n",
       "      var scale_color = d3.scaleOrdinal()\n",
       "        .domain(['1. Sunday', '2. Monday', '3. Tuesday', '4. Wednesday', '5. Thursday', '6. Friday', '7. Saturday'])\n",
       "        .range([ '#347DAD', '#D43F58', '#F7D84A', '#31A461', '#A66A9C', '#FF954D', \n",
       "          '#A7978E', '#FFCA4D', '#F99EAF', '#B1C43B', '#7E64A2', '#FFB04D', '#CA5C7C', \n",
       "          '#DDBC8C', '#FFA28D', '#A5473D', '#8B6141', '#F57357', '#5C6B46']);\n",
       "      var color = function(d) { return scale_color(data.DAY_OF_WEEK(d.data)) };\n",
       "      var scale_size = d3.scaleLinear().domain([0, 122.00001])\n",
       "        .range([ 0.001, 1]);\n",
       "      var size = function(d) { return scale_size(data.FRAUD(d.data)) };\n",
       "      legends._legend = legends._legend || { title: ['DAY OF WEEK'], \n",
       "        ticks: scale_color.domain()};\n",
       "      legends._legend.color = scale_color;\n",
       "\n",
       "      // Build element from data ///////////////////////////////////////////////////////////////////\n",
       "\n",
       "      function build(transitionMillis) {\n",
       "        element = elements[0];\n",
       "        // Define treemap (hierarchy) data structures\n",
       "        var first = (!tree), graph = BrunelData.diagram_Hierarchical.makeByNestingFields(processed, 'FRAUD', 'DAY_OF_WEEK', 'TIME_OF_DAY_BAND');\n",
       "        var targetNode = graph.root;\n",
       "        tree = d3.hierarchy(targetNode).sum(function(d) { return d.value });\n",
       "        BrunelD3.prune(tree, collapseState, true);\n",
       "        function nodeKey(d) { return d.data.key == null ? data._key(d.data.row) : d.data.key };\n",
       "        var treemap = d3.treemap().tile(d3.treemapResquarify)\n",
       "          .size([geom.inner_width, geom.inner_height])\n",
       "          .padding(function(d) { return d.depth < 3 ? 2*d.depth : 0} )\n",
       "          .paddingTop(function(d) { return d.depth ==1 ? 15 : (d.depth == 2) ? 12 : 0});\n",
       "        main.attr('class', 'diagram treemap hierarchy');\n",
       "\n",
       "        // Define selection entry operations\n",
       "        function initialState(selection) {\n",
       "          selection\n",
       "            .attr('class', 'element polygon filled')\n",
       "            .filter(function(d) { return d.parent })\n",
       "            .attr('x', function(d) { return scale_x((d.parent.x0+d.parent.x1)/2) })\n",
       "            .attr('y', function(d) { return scale_y((d.parent.y0+d.parent.y1)/2) })\n",
       "            .attr('width', 0).attr('height', 0)\n",
       "        }\n",
       "\n",
       "        // Define selection update operations on merged data\n",
       "        function updateState(selection) {\n",
       "          selection\n",
       "            .attr('class', function(d) { return (d.collapsed ? 'collapsed ' : '') + (d.data.children ? 'element L' + d.depth : 'leaf element bar') })\n",
       "            .attr('x', function(d) { return scale_x(d.x0) })\n",
       "            .attr('y', function(d) { return scale_y(d.y0) })\n",
       "            .attr('width', function(d) { return scale_x(d.x1) - scale_x(d.x0) })\n",
       "            .attr('height', function(d) { return scale_y(d.y1) - scale_y(d.y0) })\n",
       "            .filter(BrunelD3.hasData)                     // following only performed for data items\n",
       "            .style('fill', color);\n",
       "        }\n",
       "\n",
       "        // Define labeling for the selection\n",
       "        function label(selection, transitionMillis) {\n",
       "\n",
       "          var tooltipLabeling  = {\n",
       "            index: -1, method: 'box', location: ['center', 'top'], inside: true, align: 'middle', pad: 0, dy: 0.7,\n",
       "            fit: true, granularity: 0,\n",
       "            content: function(d) {\n",
       "              return d.row == null ? null : '<span class=\"title\">DAY OF WEEK: </span>'\n",
       "\t\t\t+ '<span class=\"field\">' + data.DAY_OF_WEEK_f(d) + '</span>'\n",
       "\t\t\t+ '<br/>'\n",
       "\t\t\t+ '<span class=\"title\">TIME OF DAY BAND: </span>'\n",
       "\t\t\t+ '<span class=\"field\">' + data.TIME_OF_DAY_BAND_f(d) + '</span>'\n",
       "\t\t\t+ '<br/>'\n",
       "\t\t\t+ '<span class=\"title\">Sum(FRAUD): </span>'\n",
       "\t\t\t+ '<span class=\"field\">' + data.FRAUD_f(d) + '</span>'\n",
       "            }\n",
       "          };\n",
       "          BrunelD3.addTooltip(selection, tooltipLabeling, geom);\n",
       "          diagramLabels.attr('class', 'axis diagram treemap hierarchy');\n",
       "          var treeLabeling = [{ index:0, method:'inner-left', fit:true, dy:0.83, align:'start', \n",
       "            content:  function(d) { return d.data.innerNodeName },\n",
       "            cssClass: function(d) { return 'axis label L' + d.depth + ' H' + d.height }, \n",
       "            where :   function(box) { return {'x': box.x + 2, 'y': box.y, 'box': box} }\n",
       "          }];\n",
       "          BrunelD3.label(selection.filter(function(d) {return d.data.key}), diagramLabels, transitionMillis, geom, treeLabeling);\n",
       "        }\n",
       "        // Create selections, set the initial state and transition updates\n",
       "        selection = main.selectAll('.element').data(treemap(tree).descendants(), nodeKey);\n",
       "        var added = selection.enter().append('rect');\n",
       "        merged = selection.merge(added);\n",
       "        initialState(added);\n",
       "        selection.filter(BrunelD3.hasData)\n",
       "          .classed('selected', BrunelD3.isSelected(data))\n",
       "          .filter(BrunelD3.isSelected(data)).raise();\n",
       "        updateState(BrunelD3.transition(merged, transitionMillis));\n",
       "        label(merged, transitionMillis);\n",
       "\n",
       "        BrunelD3.transition(selection.exit(), transitionMillis/3)\n",
       "          .style('opacity', 0.5).each( function() {\n",
       "            this.remove(); BrunelD3.removeLabels(this); \n",
       "        });\n",
       "        merged                                                     // attach handlers to the element\n",
       "          .on('dblclick.collapse', function(d) {if (d.data.children) {collapseState[d.data.key] = !collapseState[d.data.key]; charts[0].build(500)}  });\n",
       "      }\n",
       "\n",
       "      return {\n",
       "        data:           function() { return processed },\n",
       "        original:       function() { return original },\n",
       "        internal:       function() { return data },\n",
       "        selection:      function() { return merged },\n",
       "        makeData:       makeData,\n",
       "        build:          build,\n",
       "        chart:          function() { return charts[0] },\n",
       "        group:          function() { return elementGroup },\n",
       "        fields: {\n",
       "          x:            ['DAY_OF_WEEK', 'TIME_OF_DAY_BAND'],\n",
       "          key:          ['DAY_OF_WEEK', 'TIME_OF_DAY_BAND'],\n",
       "          color:        ['DAY_OF_WEEK'],\n",
       "          size:         ['FRAUD']\n",
       "        }\n",
       "      };\n",
       "    }();\n",
       "\n",
       "    function build(time, noData) {\n",
       "      var first = elements[0].data() == null;\n",
       "      if (first) time = 0;                                           // no transition for first call\n",
       "      if ((first || time > -1) && !noData) {\n",
       "        elements[0].makeData();\n",
       "        BrunelD3.addLegend(legends, legends._legend);\n",
       "      }\n",
       "      elements[0].build(time);\n",
       "    }\n",
       "\n",
       "    // Expose the following components of the chart\n",
       "    return {\n",
       "      elements : elements,\n",
       "      interior : interior,\n",
       "      zoom: function(params, time) {\n",
       "          if (params) zoom.on('zoom').call(zoomNode, params, time);\n",
       "          return d3.zoomTransform(zoomNode);\n",
       "      },\n",
       "      build : build\n",
       "    };\n",
       "    }();\n",
       "\n",
       "  function setData(rowData, i) { datasets[i||0] = BrunelD3.makeData(rowData) }\n",
       "  function updateAll(time) { charts.forEach(function(x) {x.build(time || 0)}) }\n",
       "  function buildAll() {\n",
       "    for (var i=0;i<arguments.length;i++) setData(arguments[i], i);\n",
       "    updateAll(transitionTime);\n",
       "  }\n",
       "\n",
       "  return {\n",
       "    dataPreProcess:     function(f) { if (f) pre = f; return pre },\n",
       "    dataPostProcess:    function(f) { if (f) post = f; return post },\n",
       "    data:               function(d,i) { if (d) setData(d,i); return datasets[i||0] },\n",
       "    visId:              visId,\n",
       "    build:              buildAll,\n",
       "    rebuild:            updateAll,\n",
       "    charts:             charts\n",
       "  }\n",
       "}\n",
       "\n",
       "// Data Tables /////////////////////////////////////////////////////////////////////////////////////\n",
       "\n",
       "var table1 = {\n",
       "   summarized: true,\n",
       "   names: ['DAY_OF_WEEK', 'TIME_OF_DAY_BAND', 'FRAUD'], \n",
       "   options: ['string', 'string', 'numeric'], \n",
       "   rows: [['1. Sunday', '1. Late at Night (11pm - 3am)', 56],\n",
       "  ['1. Sunday', '2. Morning (4am to midday)', 22], ['1. Sunday', '3. Afternoon (1pm to 5pm)', 33],\n",
       "  ['1. Sunday', '4. Evening (6pm to 10pm)', 5], ['2. Monday', '1. Late at Night (11pm - 3am)', 46],\n",
       "  ['2. Monday', '2. Morning (4am to midday)', 23], ['2. Monday', '3. Afternoon (1pm to 5pm)', 42],\n",
       "  ['2. Monday', '4. Evening (6pm to 10pm)', 18], ['3. Tuesday', '1. Late at Night (11pm - 3am)', 33],\n",
       "  ['3. Tuesday', '2. Morning (4am to midday)', 29], ['3. Tuesday', '3. Afternoon (1pm to 5pm)', 29],\n",
       "  ['3. Tuesday', '4. Evening (6pm to 10pm)', 18],\n",
       "  ['4. Wednesday', '1. Late at Night (11pm - 3am)', 48],\n",
       "  ['4. Wednesday', '2. Morning (4am to midday)', 36],\n",
       "  ['4. Wednesday', '3. Afternoon (1pm to 5pm)', 35],\n",
       "  ['4. Wednesday', '4. Evening (6pm to 10pm)', 15],\n",
       "  ['5. Thursday', '1. Late at Night (11pm - 3am)', 89],\n",
       "  ['5. Thursday', '2. Morning (4am to midday)', 33],\n",
       "  ['5. Thursday', '3. Afternoon (1pm to 5pm)', 47], ['5. Thursday', '4. Evening (6pm to 10pm)', 28],\n",
       "  ['6. Friday', '1. Late at Night (11pm - 3am)', 122],\n",
       "  ['6. Friday', '2. Morning (4am to midday)', 75], ['6. Friday', '3. Afternoon (1pm to 5pm)', 65],\n",
       "  ['6. Friday', '4. Evening (6pm to 10pm)', 31],\n",
       "  ['7. Saturday', '1. Late at Night (11pm - 3am)', 85],\n",
       "  ['7. Saturday', '2. Morning (4am to midday)', 33],\n",
       "  ['7. Saturday', '3. Afternoon (1pm to 5pm)', 38], ['7. Saturday', '4. Evening (6pm to 10pm)', 21]]\n",
       "};\n",
       "\n",
       "// Call Code to Build the system ///////////////////////////////////////////////////////////////////\n",
       "\n",
       "var v  = new BrunelVis('visid3af19c22-a86a-11e7-965c-1ac5613003e5');\n",
       "v.build(table1);\n",
       "\n",
       "    });\n",
       "});"
      ],
      "text/plain": [
       "<IPython.core.display.Javascript object>"
      ]
     },
     "execution_count": 51,
     "metadata": {},
     "output_type": "execute_result"
    }
   ],
   "source": [
    "import brunel\n",
    "%brunel data('df') treemap x(DAY_OF_WEEK,TIME_OF_DAY_BAND) color(DAY_OF_WEEK) size(FRAUD) sum(FRAUD) tooltip(#all)"
   ]
  },
  {
   "cell_type": "markdown",
   "metadata": {},
   "source": [
    "**PixieDust** is a Python Helper library for Spark IPython Notebooks. One of it's main features are visualizations. You'll notice that unlike other APIs which produce just output, PixieDust creates an **interactive UI** in which you can explore data.\n",
    "\n",
    "More information about PixieDust: https://github.com/ibm-cds-labs/pixiedust?cm_mc_uid=78151411419314871783930&cm_mc_sid_50200000=1487962969"
   ]
  },
  {
   "cell_type": "code",
   "execution_count": 52,
   "metadata": {
    "collapsed": false,
    "pixiedust": {
     "displayParams": {
      "aggregation": "SUM",
      "chartsize": "50",
      "handlerId": "barChart",
      "keyFields": "TIME_OF_DAY",
      "rendererId": "matplotlib",
      "rowCount": "500",
      "title": "Fraudulent Transactions per Hour",
      "valueFields": "FRAUD"
     }
    },
    "scrolled": true
   },
   "outputs": [
    {
     "data": {
      "text/html": [
       "<style type=\"text/css\">.pd_warning{display:none;}</style><div class=\"pd_warning\"><em>Hey, there's something awesome here! To see it, open this notebook outside GitHub, in a viewer like Jupyter</em></div>\n",
       "        <div class=\"pd_save is-viewer-good\" style=\"padding-right:10px;text-align: center;line-height:initial !important;font-size: xx-large;font-weight: 500;color: coral;\">\n",
       "            Fraudulent Transactions per Hour\n",
       "        </div>\n",
       "    <div id=\"chartFigure5a66b4c1\" class=\"pd_save is-viewer-good\" style=\"overflow-x:auto\">\n",
       "            \n",
       "                    \n",
       "                            <center><img style=\"max-width:initial !important\" src=\"data:image/png;base64,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\" class=\"pd_save\"></center>\n",
       "                        \n",
       "                    \n",
       "                \n",
       "        </div>"
      ],
      "text/plain": [
       "<IPython.core.display.HTML object>"
      ]
     },
     "metadata": {},
     "output_type": "display_data"
    }
   ],
   "source": [
    "from pixiedust.display import *\n",
    "display(df)"
   ]
  },
  {
   "cell_type": "markdown",
   "metadata": {},
   "source": [
    "### Step 4: Build the Spark pipeline and the Random Forest model\n",
    "\"Pipeline\" is an API in SparkML that's used for building models.\n",
    "Additional information on SparkML: https://spark.apache.org/docs/2.0.2/ml-guide.html"
   ]
  },
  {
   "cell_type": "code",
   "execution_count": 87,
   "metadata": {
    "collapsed": false
   },
   "outputs": [],
   "source": [
    "from pyspark.ml.feature import OneHotEncoder, StringIndexer, VectorIndexer, IndexToString\n",
    "from pyspark.ml import Pipeline\n",
    "from pyspark.ml.feature import VectorAssembler\n",
    "from pyspark.ml.classification import RandomForestClassifier\n",
    "\n",
    "# Prepare string variables so that they can be used by the decision tree algorithm\n",
    "# StringIndexer encodes a string column of labels to a column of label indices\n",
    "SI1 = StringIndexer(inputCol='ATM_POSI', outputCol='positionEncoded')\n",
    "SI2 = StringIndexer(inputCol='POST_COD_Region',outputCol='regionEncoded')\n",
    "SI3 = StringIndexer(inputCol='DAY_OF_WEEK',outputCol='dayOfWeekEncoded')\n",
    "SI4 = StringIndexer(inputCol='TIME_OF_DAY_BAND',outputCol='timeOfDayEncoded')\n",
    "labelIndexer = StringIndexer(inputCol='FRAUD', outputCol='label').fit(data)\n",
    "\n",
    "#Apply OneHotEncoder so categorical features aren't given numeric importance\n",
    "OH1 = OneHotEncoder(inputCol=\"positionEncoded\", outputCol=\"positionEncoded\"+\"classVec\")\n",
    "OH2 = OneHotEncoder(inputCol=\"regionEncoded\", outputCol=\"regionEncoded\"+\"classVec\")\n",
    "OH3 = OneHotEncoder(inputCol=\"dayOfWeekEncoded\", outputCol=\"dayOfWeekEncoded\"+\"classVec\")\n",
    "OH4 = OneHotEncoder(inputCol=\"timeOfDayEncoded\", outputCol=\"timeOfDayEncoded\"+\"classVec\")\n",
    "\n",
    "\n",
    "# Pipelines API requires that input variables are passed in  a vector\n",
    "assembler = VectorAssembler(inputCols=[\"positionEncoded\"+\"classVec\", \"regionEncoded\"+\"classVec\", \"dayOfWeekEncoded\"+\"classVec\", \"timeOfDayEncoded\"+\"classVec\"],\\\n",
    "                            outputCol=\"features\")"
   ]
  },
  {
   "cell_type": "code",
   "execution_count": 88,
   "metadata": {
    "collapsed": false
   },
   "outputs": [],
   "source": [
    "# instantiate the algorithm, take the default settings\n",
    "rf=RandomForestClassifier(labelCol=\"label\", featuresCol=\"features\")\n",
    "\n",
    "# Convert indexed labels back to original labels.\n",
    "labelConverter = IndexToString(inputCol=\"prediction\", outputCol=\"predictedLabel\", labels=labelIndexer.labels)\n",
    "\n",
    "pipeline = Pipeline(stages=[SI1,SI2,SI3,SI4,labelIndexer,OH1,OH2,OH3,OH4,assembler,rf,labelConverter])\n",
    "#pipeline = Pipeline(stages=[SI1,SI2,SI3,SI4,labelIndexer,OH1,OH2,OH3,OH4,assembler,rf])"
   ]
  },
  {
   "cell_type": "code",
   "execution_count": 89,
   "metadata": {
    "collapsed": false
   },
   "outputs": [
    {
     "data": {
      "text/plain": [
       "DataFrame[ATM_ID: string, SHORTNAM: string, CARDHOLD: string, FRAUD_TY: string, FRAUD: int, ISSUER_I: string, MAKE: string, MODEL: double, FACILITI: string, ATM_POSI: string, INSTITUT: string, POST_COD_Town: string, POST_COD_Region: string, DAY_OF_WEEK: string, TIME_OF_DAY: int, TIME_OF_DAY_BAND: string]"
      ]
     },
     "execution_count": 89,
     "metadata": {},
     "output_type": "execute_result"
    }
   ],
   "source": [
    "# Split data into train and test datasets\n",
    "train, test = data.randomSplit([0.8,0.2], seed=6)\n",
    "train.cache()\n",
    "test.cache()"
   ]
  },
  {
   "cell_type": "code",
   "execution_count": 90,
   "metadata": {
    "collapsed": false
   },
   "outputs": [],
   "source": [
    "# Build models\n",
    "model = pipeline.fit(train)"
   ]
  },
  {
   "cell_type": "markdown",
   "metadata": {
    "collapsed": true
   },
   "source": [
    "### Step 4: Score the test data set"
   ]
  },
  {
   "cell_type": "code",
   "execution_count": 95,
   "metadata": {
    "collapsed": false
   },
   "outputs": [
    {
     "data": {
      "text/html": [
       "<div>\n",
       "<style>\n",
       "    .dataframe thead tr:only-child th {\n",
       "        text-align: right;\n",
       "    }\n",
       "\n",
       "    .dataframe thead th {\n",
       "        text-align: left;\n",
       "    }\n",
       "\n",
       "    .dataframe tbody tr th {\n",
       "        vertical-align: top;\n",
       "    }\n",
       "</style>\n",
       "<table border=\"1\" class=\"dataframe\">\n",
       "  <thead>\n",
       "    <tr style=\"text-align: right;\">\n",
       "      <th></th>\n",
       "      <th>label</th>\n",
       "      <th>prediction</th>\n",
       "      <th>FRAUD</th>\n",
       "      <th>predictedLabel</th>\n",
       "      <th>probability</th>\n",
       "    </tr>\n",
       "  </thead>\n",
       "  <tbody>\n",
       "    <tr>\n",
       "      <th>0</th>\n",
       "      <td>1.0</td>\n",
       "      <td>1.0</td>\n",
       "      <td>0</td>\n",
       "      <td>0</td>\n",
       "      <td>[0.482077148634, 0.517922851366]</td>\n",
       "    </tr>\n",
       "    <tr>\n",
       "      <th>1</th>\n",
       "      <td>1.0</td>\n",
       "      <td>0.0</td>\n",
       "      <td>0</td>\n",
       "      <td>1</td>\n",
       "      <td>[0.501985111198, 0.498014888802]</td>\n",
       "    </tr>\n",
       "    <tr>\n",
       "      <th>2</th>\n",
       "      <td>1.0</td>\n",
       "      <td>1.0</td>\n",
       "      <td>0</td>\n",
       "      <td>0</td>\n",
       "      <td>[0.357221684601, 0.642778315399]</td>\n",
       "    </tr>\n",
       "    <tr>\n",
       "      <th>3</th>\n",
       "      <td>1.0</td>\n",
       "      <td>1.0</td>\n",
       "      <td>0</td>\n",
       "      <td>0</td>\n",
       "      <td>[0.344491061424, 0.655508938576]</td>\n",
       "    </tr>\n",
       "    <tr>\n",
       "      <th>4</th>\n",
       "      <td>1.0</td>\n",
       "      <td>1.0</td>\n",
       "      <td>0</td>\n",
       "      <td>0</td>\n",
       "      <td>[0.37772950193, 0.62227049807]</td>\n",
       "    </tr>\n",
       "    <tr>\n",
       "      <th>5</th>\n",
       "      <td>1.0</td>\n",
       "      <td>0.0</td>\n",
       "      <td>0</td>\n",
       "      <td>1</td>\n",
       "      <td>[0.517401840194, 0.482598159806]</td>\n",
       "    </tr>\n",
       "    <tr>\n",
       "      <th>6</th>\n",
       "      <td>1.0</td>\n",
       "      <td>1.0</td>\n",
       "      <td>0</td>\n",
       "      <td>0</td>\n",
       "      <td>[0.4970710421, 0.5029289579]</td>\n",
       "    </tr>\n",
       "    <tr>\n",
       "      <th>7</th>\n",
       "      <td>1.0</td>\n",
       "      <td>1.0</td>\n",
       "      <td>0</td>\n",
       "      <td>0</td>\n",
       "      <td>[0.344491061424, 0.655508938576]</td>\n",
       "    </tr>\n",
       "    <tr>\n",
       "      <th>8</th>\n",
       "      <td>0.0</td>\n",
       "      <td>1.0</td>\n",
       "      <td>1</td>\n",
       "      <td>0</td>\n",
       "      <td>[0.482077148634, 0.517922851366]</td>\n",
       "    </tr>\n",
       "    <tr>\n",
       "      <th>9</th>\n",
       "      <td>0.0</td>\n",
       "      <td>1.0</td>\n",
       "      <td>1</td>\n",
       "      <td>0</td>\n",
       "      <td>[0.482077148634, 0.517922851366]</td>\n",
       "    </tr>\n",
       "  </tbody>\n",
       "</table>\n",
       "</div>"
      ],
      "text/plain": [
       "   label  prediction  FRAUD predictedLabel                       probability\n",
       "0    1.0         1.0      0              0  [0.482077148634, 0.517922851366]\n",
       "1    1.0         0.0      0              1  [0.501985111198, 0.498014888802]\n",
       "2    1.0         1.0      0              0  [0.357221684601, 0.642778315399]\n",
       "3    1.0         1.0      0              0  [0.344491061424, 0.655508938576]\n",
       "4    1.0         1.0      0              0    [0.37772950193, 0.62227049807]\n",
       "5    1.0         0.0      0              1  [0.517401840194, 0.482598159806]\n",
       "6    1.0         1.0      0              0      [0.4970710421, 0.5029289579]\n",
       "7    1.0         1.0      0              0  [0.344491061424, 0.655508938576]\n",
       "8    0.0         1.0      1              0  [0.482077148634, 0.517922851366]\n",
       "9    0.0         1.0      1              0  [0.482077148634, 0.517922851366]"
      ]
     },
     "execution_count": 95,
     "metadata": {},
     "output_type": "execute_result"
    }
   ],
   "source": [
    "results = model.transform(test)\n",
    "results=results.select(results[\"label\"],results[\"prediction\"],results[\"FRAUD\"],results['predictedLabel'],results[\"probability\"])\n",
    "results.toPandas().head(10)"
   ]
  },
  {
   "cell_type": "markdown",
   "metadata": {},
   "source": [
    "### Step 5: Model Evaluation "
   ]
  },
  {
   "cell_type": "code",
   "execution_count": 96,
   "metadata": {
    "collapsed": false
   },
   "outputs": [
    {
     "name": "stdout",
     "output_type": "stream",
     "text": [
      "Precision model1 = 0.72.\n"
     ]
    }
   ],
   "source": [
    "print 'Precision model1 = {:.2f}.'.format(results.filter(results.label == results.prediction).count() / float(results.count()))"
   ]
  },
  {
   "cell_type": "code",
   "execution_count": 97,
   "metadata": {
    "collapsed": false
   },
   "outputs": [
    {
     "name": "stdout",
     "output_type": "stream",
     "text": [
      "Area under ROC curve = 0.72.\n"
     ]
    }
   ],
   "source": [
    "from pyspark.ml.evaluation import BinaryClassificationEvaluator\n",
    "\n",
    "# Evaluate model\n",
    "evaluator = BinaryClassificationEvaluator(rawPredictionCol=\"prediction\", labelCol=\"label\", metricName=\"areaUnderROC\")\n",
    "print 'Area under ROC curve = {:.2f}.'.format(evaluator.evaluate(results))"
   ]
  },
  {
   "cell_type": "markdown",
   "metadata": {},
   "source": [
    "We have finished building and testing a predictive model. The next step is to deploy it for real time scoring. "
   ]
  },
  {
   "cell_type": "markdown",
   "metadata": {},
   "source": [
    "### Step 6: Save Model in ML repository"
   ]
  },
  {
   "cell_type": "code",
   "execution_count": 98,
   "metadata": {
    "collapsed": true
   },
   "outputs": [],
   "source": [
    "from repository.mlrepositoryclient import MLRepositoryClient\n",
    "from repository.mlrepositoryartifact import MLRepositoryArtifact"
   ]
  },
  {
   "cell_type": "code",
   "execution_count": 103,
   "metadata": {
    "collapsed": true
   },
   "outputs": [],
   "source": [
    "service_path = 'https://internal-nginx-svc.ibm-private-cloud.svc.cluster.local:12443'\n",
    "ml_repository_client = MLRepositoryClient()"
   ]
  },
  {
   "cell_type": "markdown",
   "metadata": {},
   "source": [
    "Create the model artifact (abstraction layer).\n",
    "\n",
    "<b>Tip:</b> The MLRepositoryArtifact method expects a trained model object, training data, and a model name. (It is this model name that is displayed by the Watson Machine Learning service).\n"
   ]
  },
  {
   "cell_type": "code",
   "execution_count": 105,
   "metadata": {
    "collapsed": false
   },
   "outputs": [],
   "source": [
    "model_artifact = MLRepositoryArtifact(model, training_data=train.select('ATM_POSI','POST_COD_Region','DAY_OF_WEEK','TIME_OF_DAY_BAND','FRAUD'),\\\n",
    "                                      name=\"Predict ATM Fraud\")\n",
    "\n",
    "# Add author information for model\n",
    "model_artifact.meta.add(\"authorName\", \"Data Scientist\");"
   ]
  },
  {
   "cell_type": "markdown",
   "metadata": {},
   "source": [
    "Save pipeline and model artifacts to in Machine Learning repository:"
   ]
  },
  {
   "cell_type": "code",
   "execution_count": 106,
   "metadata": {
    "collapsed": false
   },
   "outputs": [],
   "source": [
    "saved_model = ml_repository_client.models.save(model_artifact)"
   ]
  },
  {
   "cell_type": "code",
   "execution_count": 107,
   "metadata": {
    "collapsed": false
   },
   "outputs": [
    {
     "name": "stdout",
     "output_type": "stream",
     "text": [
      "modelType: sparkml-model-2.0\n",
      "creationTime: 2017-10-03 19:28:48.414000+00:00\n",
      "modelVersionHref: https://internal-nginx-svc.ibm-private-cloud.svc.cluster.local:12443/v2/artifacts/models/d722fd33-1e6a-4615-bb9a-74ac79a952ec/versions/6b149857-c1f6-4d89-9914-c38c4ae9cda8\n",
      "label: FRAUD\n"
     ]
    }
   ],
   "source": [
    "# Print the saved model properties\n",
    "print \"modelType: \" + saved_model.meta.prop(\"modelType\")\n",
    "print \"creationTime: \" + str(saved_model.meta.prop(\"creationTime\"))\n",
    "print \"modelVersionHref: \" + saved_model.meta.prop(\"modelVersionHref\")\n",
    "print \"label: \" + saved_model.meta.prop(\"label\")"
   ]
  },
  {
   "cell_type": "markdown",
   "metadata": {},
   "source": [
    "### Step 7:  Deploy and Test model with UI"
   ]
  },
  {
   "cell_type": "markdown",
   "metadata": {
    "collapsed": false
   },
   "source": [
    "1. Save the notebook and switch to the **Analytic Assets** tab of the project (hint: open with another tab in your browser). \n",
    "2. Under **Models**, find and click into your deployed model. Add an **Online deployment** and use the the **Test API** option to test the model."
   ]
  },
  {
   "cell_type": "markdown",
   "metadata": {},
   "source": [
    "### Step 8:  Test model with a REST API call (Optional)"
   ]
  },
  {
   "cell_type": "markdown",
   "metadata": {},
   "source": [
    "This step is to demonstrate the you can make an external REST API call to test the model\n",
    "\n",
    "* In the Deployment Details, copy the scoring endpoint into your notepad, e.g. \n",
    "https://169.47.153.213/v2/scoring/online/dc0a0dce-f9af-4140-84af-b1eb7d92f0d5  (where 169.47.153.213 represents the master node IP)"
   ]
  },
  {
   "cell_type": "markdown",
   "metadata": {},
   "source": [
    "* Retreive the __bearer token__ for accessing your deployed model with this command: <br/>\n",
    "`!curl -k -X GET https://<master node IP>/v2/identity/token -H \"username: joe\" -H \"password: joePassword\"`"
   ]
  },
  {
   "cell_type": "code",
   "execution_count": 62,
   "metadata": {
    "collapsed": false
   },
   "outputs": [],
   "source": [
    "# insert your code here\n"
   ]
  },
  {
   "cell_type": "markdown",
   "metadata": {},
   "source": [
    "* copy the generated token into your notepad"
   ]
  },
  {
   "cell_type": "markdown",
   "metadata": {},
   "source": [
    "* Create and execute this command to invoke the model remotely:\n",
    "<br/>\n",
    "<br/>\n",
    "`!curl -i -k -X POST <Scoring Endpoint> -d '{\"fields\": [\"ATM_POSI\",\"POST_COD_Region\",\"DAY_OF_WEEK\",\"TIME_OF_DAY_BAND\"], \"records\": [[\"Petrol Station\",\"Northern Ireland\",\"5. Thursday\",\"4. Evening (6pm to 10pm)\"]]}' -H \"content-type: application/json\" -H \"authorization: Bearer <generate bearer token>\"`"
   ]
  },
  {
   "cell_type": "code",
   "execution_count": 63,
   "metadata": {
    "collapsed": false
   },
   "outputs": [],
   "source": [
    "#insert your code here\n"
   ]
  },
  {
   "cell_type": "markdown",
   "metadata": {},
   "source": [
    "### Summary"
   ]
  },
  {
   "cell_type": "markdown",
   "metadata": {},
   "source": [
    "You have finished working on this hands-on lab. In this notebook you created a model using SparkML API, deployed it in  Machine Learning service for online (real time) scoring and tested it using a test client. "
   ]
  },
  {
   "cell_type": "markdown",
   "metadata": {},
   "source": [
    "\n",
    "Created by **Ross Lewis**\n",
    "<br/>\n",
    "rwlewis@us.ibm.com\n",
    "<br/>\n",
    "October 3, 2017"
   ]
  },
  {
   "cell_type": "code",
   "execution_count": null,
   "metadata": {
    "collapsed": true
   },
   "outputs": [],
   "source": []
  }
 ],
 "metadata": {
  "kernelspec": {
   "display_name": "Python2 with DSX Spark",
   "language": "python",
   "name": "python2"
  },
  "language_info": {
   "codemirror_mode": {
    "name": "ipython",
    "version": 2
   },
   "file_extension": ".py",
   "mimetype": "text/x-python",
   "name": "python",
   "nbconvert_exporter": "python",
   "pygments_lexer": "ipython2",
   "version": "2.7.13"
  }
 },
 "nbformat": 4,
 "nbformat_minor": 0
}
